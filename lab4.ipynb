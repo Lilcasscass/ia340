{
 "cells": [
  {
   "cell_type": "markdown",
   "id": "8741d72b",
   "metadata": {},
   "source": [
    "# Lab 4"
   ]
  },
  {
   "cell_type": "markdown",
   "id": "b4a7e3d4",
   "metadata": {},
   "source": [
    "## Import libs and connect to database"
   ]
  },
  {
   "cell_type": "code",
   "execution_count": 4,
   "id": "59cb79d9",
   "metadata": {},
   "outputs": [],
   "source": [
    "import pandas\n",
    "import configparser\n",
    "import psycopg2"
   ]
  },
  {
   "cell_type": "code",
   "execution_count": 5,
   "id": "b0b098dd",
   "metadata": {},
   "outputs": [],
   "source": [
    "config = configparser.ConfigParser()\n",
    "config.read('config.ini')\n",
    "\n",
    "host=config['myaws']['host']\n",
    "db=config['myaws']['db']\n",
    "user=config['myaws']['user']\n",
    "pwd = config['myaws']['pwd']\n",
    "\n",
    "conn = psycopg2.connect(  host=host,\n",
    "                       user=user,\n",
    "                       password = pwd,\n",
    "                       dbname=db)"
   ]
  },
  {
   "cell_type": "code",
   "execution_count": 6,
   "id": "08fc7adc",
   "metadata": {},
   "outputs": [],
   "source": [
    "cur=conn.cursor()"
   ]
  },
  {
   "cell_type": "markdown",
   "id": "7c4f5711",
   "metadata": {},
   "source": [
    "## Q1"
   ]
  },
  {
   "cell_type": "code",
   "execution_count": 7,
   "id": "88087dbf",
   "metadata": {},
   "outputs": [],
   "source": [
    "q1_sql = \"\"\"\n",
    "        select * from gp5.student\n",
    "        \"\"\""
   ]
  },
  {
   "cell_type": "code",
   "execution_count": 8,
   "id": "5e0a9ffe",
   "metadata": {},
   "outputs": [
    {
     "data": {
      "text/html": [
       "<div>\n",
       "<style scoped>\n",
       "    .dataframe tbody tr th:only-of-type {\n",
       "        vertical-align: middle;\n",
       "    }\n",
       "\n",
       "    .dataframe tbody tr th {\n",
       "        vertical-align: top;\n",
       "    }\n",
       "\n",
       "    .dataframe thead th {\n",
       "        text-align: right;\n",
       "    }\n",
       "</style>\n",
       "<table border=\"1\" class=\"dataframe\">\n",
       "  <thead>\n",
       "    <tr style=\"text-align: right;\">\n",
       "      <th></th>\n",
       "      <th>student_email</th>\n",
       "      <th>student_name</th>\n",
       "      <th>major</th>\n",
       "    </tr>\n",
       "  </thead>\n",
       "  <tbody>\n",
       "    <tr>\n",
       "      <th>0</th>\n",
       "      <td>s1email@dukes.jmu.edu</td>\n",
       "      <td>Emily Smith</td>\n",
       "      <td>IA</td>\n",
       "    </tr>\n",
       "    <tr>\n",
       "      <th>1</th>\n",
       "      <td>s2email@dukes.jmu.edu</td>\n",
       "      <td>Jason Smith</td>\n",
       "      <td>IA</td>\n",
       "    </tr>\n",
       "    <tr>\n",
       "      <th>2</th>\n",
       "      <td>s3email@dukes.jmu.edu</td>\n",
       "      <td>Karen Smith</td>\n",
       "      <td>IA</td>\n",
       "    </tr>\n",
       "    <tr>\n",
       "      <th>3</th>\n",
       "      <td>s4email@dukes.jmu.edu</td>\n",
       "      <td>Sarah Smith</td>\n",
       "      <td>IA</td>\n",
       "    </tr>\n",
       "    <tr>\n",
       "      <th>4</th>\n",
       "      <td>s5email@dukes.jmu.edu</td>\n",
       "      <td>Kelly Smith</td>\n",
       "      <td>IA</td>\n",
       "    </tr>\n",
       "    <tr>\n",
       "      <th>5</th>\n",
       "      <td>s6email@dukes.jmu.edu</td>\n",
       "      <td>Tabitha Smith</td>\n",
       "      <td>IA</td>\n",
       "    </tr>\n",
       "    <tr>\n",
       "      <th>6</th>\n",
       "      <td>s7email@dukes.jmu.edu</td>\n",
       "      <td>John Smith</td>\n",
       "      <td>IA</td>\n",
       "    </tr>\n",
       "    <tr>\n",
       "      <th>7</th>\n",
       "      <td>s8email@dukes.jmu.edu</td>\n",
       "      <td>Cassidy Smith</td>\n",
       "      <td>IA</td>\n",
       "    </tr>\n",
       "    <tr>\n",
       "      <th>8</th>\n",
       "      <td>s9email@dukes.jmu.edu</td>\n",
       "      <td>Brittany Smith</td>\n",
       "      <td>IA</td>\n",
       "    </tr>\n",
       "    <tr>\n",
       "      <th>9</th>\n",
       "      <td>s10email@dukes.jmu.edu</td>\n",
       "      <td>Meghan Smith</td>\n",
       "      <td>IA</td>\n",
       "    </tr>\n",
       "  </tbody>\n",
       "</table>\n",
       "</div>"
      ],
      "text/plain": [
       "            student_email    student_name major\n",
       "0   s1email@dukes.jmu.edu     Emily Smith    IA\n",
       "1   s2email@dukes.jmu.edu     Jason Smith    IA\n",
       "2   s3email@dukes.jmu.edu     Karen Smith    IA\n",
       "3   s4email@dukes.jmu.edu     Sarah Smith    IA\n",
       "4   s5email@dukes.jmu.edu     Kelly Smith    IA\n",
       "5   s6email@dukes.jmu.edu   Tabitha Smith    IA\n",
       "6   s7email@dukes.jmu.edu      John Smith    IA\n",
       "7   s8email@dukes.jmu.edu   Cassidy Smith    IA\n",
       "8   s9email@dukes.jmu.edu  Brittany Smith    IA\n",
       "9  s10email@dukes.jmu.edu    Meghan Smith    IA"
      ]
     },
     "execution_count": 8,
     "metadata": {},
     "output_type": "execute_result"
    }
   ],
   "source": [
    "df = pandas.read_sql_query(q1_sql,conn)\n",
    "df[:]"
   ]
  },
  {
   "cell_type": "markdown",
   "id": "be93a63e",
   "metadata": {},
   "source": [
    "## Q2"
   ]
  },
  {
   "cell_type": "code",
   "execution_count": 14,
   "id": "90a6e5b5",
   "metadata": {},
   "outputs": [],
   "source": [
    "q2_sql = \"\"\"\n",
    "        select gp5.professor.p_name,\n",
    "        gp5.course.c_name\n",
    "        from gp5.professor\n",
    "        inner join gp5.course\n",
    "        on gp5.professor.p_email = gp5.course.p_email\n",
    "        \"\"\""
   ]
  },
  {
   "cell_type": "code",
   "execution_count": 15,
   "id": "6a571c6b",
   "metadata": {},
   "outputs": [
    {
     "data": {
      "text/html": [
       "<div>\n",
       "<style scoped>\n",
       "    .dataframe tbody tr th:only-of-type {\n",
       "        vertical-align: middle;\n",
       "    }\n",
       "\n",
       "    .dataframe tbody tr th {\n",
       "        vertical-align: top;\n",
       "    }\n",
       "\n",
       "    .dataframe thead th {\n",
       "        text-align: right;\n",
       "    }\n",
       "</style>\n",
       "<table border=\"1\" class=\"dataframe\">\n",
       "  <thead>\n",
       "    <tr style=\"text-align: right;\">\n",
       "      <th></th>\n",
       "      <th>p_name</th>\n",
       "      <th>c_name</th>\n",
       "    </tr>\n",
       "  </thead>\n",
       "  <tbody>\n",
       "    <tr>\n",
       "      <th>0</th>\n",
       "      <td>Noel Hendrickson</td>\n",
       "      <td>intro</td>\n",
       "    </tr>\n",
       "    <tr>\n",
       "      <th>1</th>\n",
       "      <td>Orlandrew Danzell</td>\n",
       "      <td>natsec</td>\n",
       "    </tr>\n",
       "    <tr>\n",
       "      <th>2</th>\n",
       "      <td>Tim Walton</td>\n",
       "      <td>hypothesis testing</td>\n",
       "    </tr>\n",
       "    <tr>\n",
       "      <th>3</th>\n",
       "      <td>Stephan Marrin</td>\n",
       "      <td>ia seminar</td>\n",
       "    </tr>\n",
       "    <tr>\n",
       "      <th>4</th>\n",
       "      <td>new_p</td>\n",
       "      <td>new_c_name</td>\n",
       "    </tr>\n",
       "  </tbody>\n",
       "</table>\n",
       "</div>"
      ],
      "text/plain": [
       "              p_name              c_name\n",
       "0   Noel Hendrickson               intro\n",
       "1  Orlandrew Danzell              natsec\n",
       "2         Tim Walton  hypothesis testing\n",
       "3     Stephan Marrin          ia seminar\n",
       "4              new_p          new_c_name"
      ]
     },
     "execution_count": 15,
     "metadata": {},
     "output_type": "execute_result"
    }
   ],
   "source": [
    "df=pandas.read_sql_query(q2_sql,conn)\n",
    "df[:]"
   ]
  },
  {
   "cell_type": "markdown",
   "id": "d704fb80",
   "metadata": {},
   "source": [
    "## Q3"
   ]
  },
  {
   "cell_type": "code",
   "execution_count": 16,
   "id": "b0aadd77",
   "metadata": {},
   "outputs": [],
   "source": [
    "q3_sql = \"\"\"\n",
    "        select course_num,\n",
    "        count(course_num) as num_enroll\n",
    "        from gp5.enroll_list\n",
    "        group by course_num\n",
    "        \"\"\""
   ]
  },
  {
   "cell_type": "code",
   "execution_count": 17,
   "id": "48d3e339",
   "metadata": {},
   "outputs": [
    {
     "data": {
      "text/html": [
       "<div>\n",
       "<style scoped>\n",
       "    .dataframe tbody tr th:only-of-type {\n",
       "        vertical-align: middle;\n",
       "    }\n",
       "\n",
       "    .dataframe tbody tr th {\n",
       "        vertical-align: top;\n",
       "    }\n",
       "\n",
       "    .dataframe thead th {\n",
       "        text-align: right;\n",
       "    }\n",
       "</style>\n",
       "<table border=\"1\" class=\"dataframe\">\n",
       "  <thead>\n",
       "    <tr style=\"text-align: right;\">\n",
       "      <th></th>\n",
       "      <th>course_num</th>\n",
       "      <th>num_enroll</th>\n",
       "    </tr>\n",
       "  </thead>\n",
       "  <tbody>\n",
       "    <tr>\n",
       "      <th>0</th>\n",
       "      <td>ia200</td>\n",
       "      <td>3</td>\n",
       "    </tr>\n",
       "    <tr>\n",
       "      <th>1</th>\n",
       "      <td>ia261</td>\n",
       "      <td>3</td>\n",
       "    </tr>\n",
       "    <tr>\n",
       "      <th>2</th>\n",
       "      <td>ia300</td>\n",
       "      <td>2</td>\n",
       "    </tr>\n",
       "    <tr>\n",
       "      <th>3</th>\n",
       "      <td>ia150</td>\n",
       "      <td>2</td>\n",
       "    </tr>\n",
       "  </tbody>\n",
       "</table>\n",
       "</div>"
      ],
      "text/plain": [
       "  course_num  num_enroll\n",
       "0      ia200           3\n",
       "1      ia261           3\n",
       "2      ia300           2\n",
       "3      ia150           2"
      ]
     },
     "execution_count": 17,
     "metadata": {},
     "output_type": "execute_result"
    }
   ],
   "source": [
    "df=pandas.read_sql_query(q3_sql,conn)\n",
    "df[:]"
   ]
  },
  {
   "cell_type": "code",
   "execution_count": 19,
   "id": "684fc101",
   "metadata": {},
   "outputs": [
    {
     "data": {
      "text/plain": [
       "<AxesSubplot:xlabel='course_num'>"
      ]
     },
     "execution_count": 19,
     "metadata": {},
     "output_type": "execute_result"
    },
    {
     "data": {
      "image/png": "[encoded data removed]",
      "text/plain": [
       "<Figure size 432x288 with 1 Axes>"
      ]
     },
     "metadata": {
      "needs_background": "light"
     },
     "output_type": "display_data"
    }
   ],
   "source": [
    "df.plot.bar(x='course_num',y='num_enroll')"
   ]
  },
  {
   "cell_type": "markdown",
   "id": "2821b85b",
   "metadata": {},
   "source": [
    "## Q4"
   ]
  },
  {
   "cell_type": "code",
   "execution_count": 20,
   "id": "0168cbf5",
   "metadata": {},
   "outputs": [],
   "source": [
    "q4_sql = \"\"\"\n",
    "        select gp5.professor.p_name,\n",
    "        count(gp5.course.c_name) as num_course\n",
    "        from gp5.professor\n",
    "        inner join gp5.course\n",
    "        on gp5.professor.p_email = gp5.course.p_email\n",
    "        group by gp5.professor.p_name\n",
    "        \"\"\""
   ]
  },
  {
   "cell_type": "code",
   "execution_count": 21,
   "id": "0cce0fc7",
   "metadata": {},
   "outputs": [
    {
     "data": {
      "text/html": [
       "<div>\n",
       "<style scoped>\n",
       "    .dataframe tbody tr th:only-of-type {\n",
       "        vertical-align: middle;\n",
       "    }\n",
       "\n",
       "    .dataframe tbody tr th {\n",
       "        vertical-align: top;\n",
       "    }\n",
       "\n",
       "    .dataframe thead th {\n",
       "        text-align: right;\n",
       "    }\n",
       "</style>\n",
       "<table border=\"1\" class=\"dataframe\">\n",
       "  <thead>\n",
       "    <tr style=\"text-align: right;\">\n",
       "      <th></th>\n",
       "      <th>p_name</th>\n",
       "      <th>num_course</th>\n",
       "    </tr>\n",
       "  </thead>\n",
       "  <tbody>\n",
       "    <tr>\n",
       "      <th>0</th>\n",
       "      <td>Noel Hendrickson</td>\n",
       "      <td>1</td>\n",
       "    </tr>\n",
       "    <tr>\n",
       "      <th>1</th>\n",
       "      <td>Tim Walton</td>\n",
       "      <td>1</td>\n",
       "    </tr>\n",
       "    <tr>\n",
       "      <th>2</th>\n",
       "      <td>Stephan Marrin</td>\n",
       "      <td>1</td>\n",
       "    </tr>\n",
       "    <tr>\n",
       "      <th>3</th>\n",
       "      <td>new_p</td>\n",
       "      <td>1</td>\n",
       "    </tr>\n",
       "    <tr>\n",
       "      <th>4</th>\n",
       "      <td>Orlandrew Danzell</td>\n",
       "      <td>1</td>\n",
       "    </tr>\n",
       "  </tbody>\n",
       "</table>\n",
       "</div>"
      ],
      "text/plain": [
       "              p_name  num_course\n",
       "0   Noel Hendrickson           1\n",
       "1         Tim Walton           1\n",
       "2     Stephan Marrin           1\n",
       "3              new_p           1\n",
       "4  Orlandrew Danzell           1"
      ]
     },
     "execution_count": 21,
     "metadata": {},
     "output_type": "execute_result"
    }
   ],
   "source": [
    "df=pandas.read_sql_query(q4_sql,conn)\n",
    "df[:]"
   ]
  },
  {
   "cell_type": "markdown",
   "id": "300bcfbe",
   "metadata": {},
   "source": [
    "## Q5"
   ]
  },
  {
   "cell_type": "code",
   "execution_count": 22,
   "id": "6ea5cc1f",
   "metadata": {},
   "outputs": [
    {
     "name": "stdout",
     "output_type": "stream",
     "text": [
      "\n",
      "            insert into gp5.professor(p_email,p_name,office)\n",
      "            values('new_lab4_email','new_p_lab4_name','new_lab4_o')\n",
      "            \n"
     ]
    }
   ],
   "source": [
    "q5_insert_professor_sql = \"\"\"\n",
    "            insert into gp5.professor(p_email,p_name,office)\n",
    "            values('{}','{}','{}')\n",
    "            \"\"\".format('new_lab4_email','new_p_lab4_name','new_lab4_o')\n",
    "print(q5_insert_professor_sql)"
   ]
  },
  {
   "cell_type": "code",
   "execution_count": 23,
   "id": "c40ef8ce",
   "metadata": {},
   "outputs": [],
   "source": [
    "cur.execute(q5_insert_professor_sql)"
   ]
  },
  {
   "cell_type": "code",
   "execution_count": 24,
   "id": "91a7641f",
   "metadata": {},
   "outputs": [],
   "source": [
    "conn.commit()"
   ]
  },
  {
   "cell_type": "code",
   "execution_count": 26,
   "id": "eabe4b21",
   "metadata": {},
   "outputs": [
    {
     "data": {
      "text/html": [
       "<div>\n",
       "<style scoped>\n",
       "    .dataframe tbody tr th:only-of-type {\n",
       "        vertical-align: middle;\n",
       "    }\n",
       "\n",
       "    .dataframe tbody tr th {\n",
       "        vertical-align: top;\n",
       "    }\n",
       "\n",
       "    .dataframe thead th {\n",
       "        text-align: right;\n",
       "    }\n",
       "</style>\n",
       "<table border=\"1\" class=\"dataframe\">\n",
       "  <thead>\n",
       "    <tr style=\"text-align: right;\">\n",
       "      <th></th>\n",
       "      <th>p_email</th>\n",
       "      <th>p_name</th>\n",
       "      <th>office</th>\n",
       "    </tr>\n",
       "  </thead>\n",
       "  <tbody>\n",
       "    <tr>\n",
       "      <th>0</th>\n",
       "      <td>hendrinx@jmu.edu</td>\n",
       "      <td>Noel Hendrickson</td>\n",
       "      <td>None</td>\n",
       "    </tr>\n",
       "    <tr>\n",
       "      <th>1</th>\n",
       "      <td>danzelox@jmu.edu</td>\n",
       "      <td>Orlandrew Danzell</td>\n",
       "      <td>None</td>\n",
       "    </tr>\n",
       "    <tr>\n",
       "      <th>2</th>\n",
       "      <td>waltontr@jmu.edu</td>\n",
       "      <td>Tim Walton</td>\n",
       "      <td>isat326</td>\n",
       "    </tr>\n",
       "    <tr>\n",
       "      <th>3</th>\n",
       "      <td>marrinsp@jmu.edu</td>\n",
       "      <td>Stephan Marrin</td>\n",
       "      <td>engeo2104</td>\n",
       "    </tr>\n",
       "    <tr>\n",
       "      <th>4</th>\n",
       "      <td>new_p@jmu.edu</td>\n",
       "      <td>new_p</td>\n",
       "      <td>new_office</td>\n",
       "    </tr>\n",
       "    <tr>\n",
       "      <th>5</th>\n",
       "      <td>new_lab4_email</td>\n",
       "      <td>new_p_lab4_name</td>\n",
       "      <td>new_lab4_o</td>\n",
       "    </tr>\n",
       "  </tbody>\n",
       "</table>\n",
       "</div>"
      ],
      "text/plain": [
       "            p_email             p_name      office\n",
       "0  hendrinx@jmu.edu   Noel Hendrickson        None\n",
       "1  danzelox@jmu.edu  Orlandrew Danzell        None\n",
       "2  waltontr@jmu.edu         Tim Walton     isat326\n",
       "3  marrinsp@jmu.edu     Stephan Marrin   engeo2104\n",
       "4     new_p@jmu.edu              new_p  new_office\n",
       "5    new_lab4_email    new_p_lab4_name  new_lab4_o"
      ]
     },
     "execution_count": 26,
     "metadata": {},
     "output_type": "execute_result"
    }
   ],
   "source": [
    "df=pandas.read_sql_query('select * from gp5.professor',conn)\n",
    "df[:]"
   ]
  },
  {
   "cell_type": "code",
   "execution_count": 27,
   "id": "9d5df1e1",
   "metadata": {},
   "outputs": [
    {
     "name": "stdout",
     "output_type": "stream",
     "text": [
      "\n",
      "            insert into gp5.course(course_num,c_name,room_num,p_email)\n",
      "            values('new_lab4_c','new_lab4_n','new_lab4_r','new_lab4_email')\n",
      "            \n"
     ]
    }
   ],
   "source": [
    "q5_insert_course_sql = \"\"\"\n",
    "            insert into gp5.course(course_num,c_name,room_num,p_email)\n",
    "            values('{}','{}','{}','{}')\n",
    "            \"\"\".format('new_lab4_c','new_lab4_n','new_lab4_r','new_lab4_email')\n",
    "print(q5_insert_course_sql)"
   ]
  },
  {
   "cell_type": "code",
   "execution_count": 28,
   "id": "049778d5",
   "metadata": {},
   "outputs": [],
   "source": [
    "cur.execute(q5_insert_course_sql)"
   ]
  },
  {
   "cell_type": "code",
   "execution_count": 29,
   "id": "03e777e1",
   "metadata": {},
   "outputs": [],
   "source": [
    "conn.commit()"
   ]
  },
  {
   "cell_type": "code",
   "execution_count": 30,
   "id": "4dd32b88",
   "metadata": {},
   "outputs": [
    {
     "data": {
      "text/html": [
       "<div>\n",
       "<style scoped>\n",
       "    .dataframe tbody tr th:only-of-type {\n",
       "        vertical-align: middle;\n",
       "    }\n",
       "\n",
       "    .dataframe tbody tr th {\n",
       "        vertical-align: top;\n",
       "    }\n",
       "\n",
       "    .dataframe thead th {\n",
       "        text-align: right;\n",
       "    }\n",
       "</style>\n",
       "<table border=\"1\" class=\"dataframe\">\n",
       "  <thead>\n",
       "    <tr style=\"text-align: right;\">\n",
       "      <th></th>\n",
       "      <th>course_num</th>\n",
       "      <th>c_name</th>\n",
       "      <th>room_num</th>\n",
       "      <th>p_email</th>\n",
       "    </tr>\n",
       "  </thead>\n",
       "  <tbody>\n",
       "    <tr>\n",
       "      <th>0</th>\n",
       "      <td>ia150</td>\n",
       "      <td>intro</td>\n",
       "      <td>engeo2301</td>\n",
       "      <td>hendrinx@jmu.edu</td>\n",
       "    </tr>\n",
       "    <tr>\n",
       "      <th>1</th>\n",
       "      <td>ia200</td>\n",
       "      <td>natsec</td>\n",
       "      <td>isat350</td>\n",
       "      <td>danzelox@jmu.edu</td>\n",
       "    </tr>\n",
       "    <tr>\n",
       "      <th>2</th>\n",
       "      <td>ia261</td>\n",
       "      <td>hypothesis testing</td>\n",
       "      <td>isat136</td>\n",
       "      <td>waltontr@jmu.edu</td>\n",
       "    </tr>\n",
       "    <tr>\n",
       "      <th>3</th>\n",
       "      <td>ia300</td>\n",
       "      <td>ia seminar</td>\n",
       "      <td>isat150</td>\n",
       "      <td>marrinsp@jmu.edu</td>\n",
       "    </tr>\n",
       "    <tr>\n",
       "      <th>4</th>\n",
       "      <td>ia_new</td>\n",
       "      <td>new_c_name</td>\n",
       "      <td>online</td>\n",
       "      <td>new_p@jmu.edu</td>\n",
       "    </tr>\n",
       "    <tr>\n",
       "      <th>5</th>\n",
       "      <td>new_lab4_c</td>\n",
       "      <td>new_lab4_n</td>\n",
       "      <td>new_lab4_r</td>\n",
       "      <td>new_lab4_email</td>\n",
       "    </tr>\n",
       "  </tbody>\n",
       "</table>\n",
       "</div>"
      ],
      "text/plain": [
       "   course_num              c_name    room_num           p_email\n",
       "0       ia150               intro   engeo2301  hendrinx@jmu.edu\n",
       "1       ia200              natsec     isat350  danzelox@jmu.edu\n",
       "2       ia261  hypothesis testing     isat136  waltontr@jmu.edu\n",
       "3       ia300          ia seminar     isat150  marrinsp@jmu.edu\n",
       "4      ia_new          new_c_name      online     new_p@jmu.edu\n",
       "5  new_lab4_c          new_lab4_n  new_lab4_r    new_lab4_email"
      ]
     },
     "execution_count": 30,
     "metadata": {},
     "output_type": "execute_result"
    }
   ],
   "source": [
    "df=pandas.read_sql_query('select * from gp5.course',conn)\n",
    "df[:]"
   ]
  },
  {
   "cell_type": "markdown",
   "id": "0689f301",
   "metadata": {},
   "source": [
    "## Q6"
   ]
  },
  {
   "cell_type": "code",
   "execution_count": 31,
   "id": "943088ef",
   "metadata": {},
   "outputs": [],
   "source": [
    "q6_update_course_sql =\"\"\"\n",
    "                    update gp5.course\n",
    "                    set p_email = '{}'\n",
    "                    where p_email ='{}'\n",
    "                    \"\"\".format('new_lab4_email','t2@jmu.edu')"
   ]
  },
  {
   "cell_type": "code",
   "execution_count": 32,
   "id": "e2c15a5a",
   "metadata": {},
   "outputs": [],
   "source": [
    "cur.execute(q6_update_course_sql)"
   ]
  },
  {
   "cell_type": "code",
   "execution_count": 33,
   "id": "6a69ac46",
   "metadata": {},
   "outputs": [],
   "source": [
    "conn.commit()"
   ]
  },
  {
   "cell_type": "code",
   "execution_count": 35,
   "id": "47bc0350",
   "metadata": {},
   "outputs": [
    {
     "data": {
      "text/html": [
       "<div>\n",
       "<style scoped>\n",
       "    .dataframe tbody tr th:only-of-type {\n",
       "        vertical-align: middle;\n",
       "    }\n",
       "\n",
       "    .dataframe tbody tr th {\n",
       "        vertical-align: top;\n",
       "    }\n",
       "\n",
       "    .dataframe thead th {\n",
       "        text-align: right;\n",
       "    }\n",
       "</style>\n",
       "<table border=\"1\" class=\"dataframe\">\n",
       "  <thead>\n",
       "    <tr style=\"text-align: right;\">\n",
       "      <th></th>\n",
       "      <th>course_num</th>\n",
       "      <th>c_name</th>\n",
       "      <th>room_num</th>\n",
       "      <th>p_email</th>\n",
       "    </tr>\n",
       "  </thead>\n",
       "  <tbody>\n",
       "    <tr>\n",
       "      <th>0</th>\n",
       "      <td>ia150</td>\n",
       "      <td>intro</td>\n",
       "      <td>engeo2301</td>\n",
       "      <td>hendrinx@jmu.edu</td>\n",
       "    </tr>\n",
       "    <tr>\n",
       "      <th>1</th>\n",
       "      <td>ia200</td>\n",
       "      <td>natsec</td>\n",
       "      <td>isat350</td>\n",
       "      <td>danzelox@jmu.edu</td>\n",
       "    </tr>\n",
       "    <tr>\n",
       "      <th>2</th>\n",
       "      <td>ia261</td>\n",
       "      <td>hypothesis testing</td>\n",
       "      <td>isat136</td>\n",
       "      <td>waltontr@jmu.edu</td>\n",
       "    </tr>\n",
       "    <tr>\n",
       "      <th>3</th>\n",
       "      <td>ia300</td>\n",
       "      <td>ia seminar</td>\n",
       "      <td>isat150</td>\n",
       "      <td>marrinsp@jmu.edu</td>\n",
       "    </tr>\n",
       "    <tr>\n",
       "      <th>4</th>\n",
       "      <td>ia_new</td>\n",
       "      <td>new_c_name</td>\n",
       "      <td>online</td>\n",
       "      <td>new_p@jmu.edu</td>\n",
       "    </tr>\n",
       "    <tr>\n",
       "      <th>5</th>\n",
       "      <td>new_lab4_c</td>\n",
       "      <td>new_lab4_n</td>\n",
       "      <td>new_lab4_r</td>\n",
       "      <td>new_lab4_email</td>\n",
       "    </tr>\n",
       "  </tbody>\n",
       "</table>\n",
       "</div>"
      ],
      "text/plain": [
       "   course_num              c_name    room_num           p_email\n",
       "0       ia150               intro   engeo2301  hendrinx@jmu.edu\n",
       "1       ia200              natsec     isat350  danzelox@jmu.edu\n",
       "2       ia261  hypothesis testing     isat136  waltontr@jmu.edu\n",
       "3       ia300          ia seminar     isat150  marrinsp@jmu.edu\n",
       "4      ia_new          new_c_name      online     new_p@jmu.edu\n",
       "5  new_lab4_c          new_lab4_n  new_lab4_r    new_lab4_email"
      ]
     },
     "execution_count": 35,
     "metadata": {},
     "output_type": "execute_result"
    }
   ],
   "source": [
    "df=pandas.read_sql_query('select * from gp5.course',conn)\n",
    "df[:]"
   ]
  },
  {
   "cell_type": "code",
   "execution_count": 36,
   "id": "d2981bd0",
   "metadata": {},
   "outputs": [],
   "source": [
    "q6_delete_professor_sql = \"\"\"\n",
    "                            delete from gp5.professor\n",
    "                            where p_email='{}'\n",
    "                            \"\"\".format('t2@jmu.edu')"
   ]
  },
  {
   "cell_type": "code",
   "execution_count": 37,
   "id": "629a9c8a",
   "metadata": {},
   "outputs": [],
   "source": [
    "cur.execute(q6_delete_professor_sql)"
   ]
  },
  {
   "cell_type": "code",
   "execution_count": 38,
   "id": "3027d54a",
   "metadata": {},
   "outputs": [],
   "source": [
    "conn.commit()"
   ]
  },
  {
   "cell_type": "code",
   "execution_count": 39,
   "id": "eaa97469",
   "metadata": {},
   "outputs": [
    {
     "data": {
      "text/html": [
       "<div>\n",
       "<style scoped>\n",
       "    .dataframe tbody tr th:only-of-type {\n",
       "        vertical-align: middle;\n",
       "    }\n",
       "\n",
       "    .dataframe tbody tr th {\n",
       "        vertical-align: top;\n",
       "    }\n",
       "\n",
       "    .dataframe thead th {\n",
       "        text-align: right;\n",
       "    }\n",
       "</style>\n",
       "<table border=\"1\" class=\"dataframe\">\n",
       "  <thead>\n",
       "    <tr style=\"text-align: right;\">\n",
       "      <th></th>\n",
       "      <th>p_email</th>\n",
       "      <th>p_name</th>\n",
       "      <th>office</th>\n",
       "    </tr>\n",
       "  </thead>\n",
       "  <tbody>\n",
       "    <tr>\n",
       "      <th>0</th>\n",
       "      <td>hendrinx@jmu.edu</td>\n",
       "      <td>Noel Hendrickson</td>\n",
       "      <td>None</td>\n",
       "    </tr>\n",
       "    <tr>\n",
       "      <th>1</th>\n",
       "      <td>danzelox@jmu.edu</td>\n",
       "      <td>Orlandrew Danzell</td>\n",
       "      <td>None</td>\n",
       "    </tr>\n",
       "    <tr>\n",
       "      <th>2</th>\n",
       "      <td>waltontr@jmu.edu</td>\n",
       "      <td>Tim Walton</td>\n",
       "      <td>isat326</td>\n",
       "    </tr>\n",
       "    <tr>\n",
       "      <th>3</th>\n",
       "      <td>marrinsp@jmu.edu</td>\n",
       "      <td>Stephan Marrin</td>\n",
       "      <td>engeo2104</td>\n",
       "    </tr>\n",
       "    <tr>\n",
       "      <th>4</th>\n",
       "      <td>new_p@jmu.edu</td>\n",
       "      <td>new_p</td>\n",
       "      <td>new_office</td>\n",
       "    </tr>\n",
       "    <tr>\n",
       "      <th>5</th>\n",
       "      <td>new_lab4_email</td>\n",
       "      <td>new_p_lab4_name</td>\n",
       "      <td>new_lab4_o</td>\n",
       "    </tr>\n",
       "  </tbody>\n",
       "</table>\n",
       "</div>"
      ],
      "text/plain": [
       "            p_email             p_name      office\n",
       "0  hendrinx@jmu.edu   Noel Hendrickson        None\n",
       "1  danzelox@jmu.edu  Orlandrew Danzell        None\n",
       "2  waltontr@jmu.edu         Tim Walton     isat326\n",
       "3  marrinsp@jmu.edu     Stephan Marrin   engeo2104\n",
       "4     new_p@jmu.edu              new_p  new_office\n",
       "5    new_lab4_email    new_p_lab4_name  new_lab4_o"
      ]
     },
     "execution_count": 39,
     "metadata": {},
     "output_type": "execute_result"
    }
   ],
   "source": [
    "df=pandas.read_sql_query('select * from gp5.professor',conn)\n",
    "df[:]"
   ]
  },
  {
   "cell_type": "markdown",
   "id": "c498d385",
   "metadata": {},
   "source": [
    "## Close Cursor and Connection"
   ]
  },
  {
   "cell_type": "code",
   "execution_count": 40,
   "id": "37ffcf3c",
   "metadata": {},
   "outputs": [],
   "source": [
    "cur.close()"
   ]
  },
  {
   "cell_type": "code",
   "execution_count": 42,
   "id": "5ed400f0",
   "metadata": {},
   "outputs": [],
   "source": [
    "conn.close()"
   ]
  },
  {
   "cell_type": "code",
   "execution_count": null,
   "id": "391b390e",
   "metadata": {},
   "outputs": [],
   "source": []
  }
 ],
 "metadata": {
  "kernelspec": {
   "display_name": "conda_python3",
   "language": "python",
   "name": "conda_python3"
  },
  "language_info": {
   "codemirror_mode": {
    "name": "ipython",
    "version": 3
   },
   "file_extension": ".py",
   "mimetype": "text/x-python",
   "name": "python",
   "nbconvert_exporter": "python",
   "pygments_lexer": "ipython3",
   "version": "3.6.13"
  }
 },
 "nbformat": 4,
 "nbformat_minor": 5
}
